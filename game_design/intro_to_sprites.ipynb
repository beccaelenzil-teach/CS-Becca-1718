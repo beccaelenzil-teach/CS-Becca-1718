{
 "cells": [
  {
   "cell_type": "code",
   "execution_count": null,
   "metadata": {
    "collapsed": true
   },
   "outputs": [],
   "source": [
    "Let's step through an example program that uses sprites. This example shows how to create a screen of black blocks, and collect them using a red block controlled by the mouse as shown below. The program keeps “score” on how many blocks have been collected.\n",
    "\n",
    "![Example Sprite Game](http://programarcadegames.com/chapters/14_intro_to_sprites/example1.png \"Example Sprite Game\")\n",
    "\n",
    "The first few lines of our program start off by importing the arcade and random library and defining some variables:\n",
    "\n",
    "```python\n",
    "import arcade\n",
    "import random\n",
    "\n",
    "# --- Constants ---\n",
    "SPRITE_SCALING_PLAYER = 0.5\n",
    "SPRITE_SCALING_COIN = 0.2\n",
    "COIN_COUNT = 50\n",
    "\n",
    "SCREEN_WIDTH = 800\n",
    "SCREEN_HEIGHT = 600\n",
    "\n",
    "MOVEMENT_SPEED = 5\n",
    "\n",
    "```\n"
   ]
  },
  {
   "cell_type": "markdown",
   "metadata": {},
   "source": []
  }
 ],
 "metadata": {
  "kernelspec": {
   "display_name": "Python 3",
   "language": "python",
   "name": "python3"
  },
  "language_info": {
   "codemirror_mode": {
    "name": "ipython",
    "version": 3
   },
   "file_extension": ".py",
   "mimetype": "text/x-python",
   "name": "python",
   "nbconvert_exporter": "python",
   "pygments_lexer": "ipython3",
   "version": "3.6.3"
  }
 },
 "nbformat": 4,
 "nbformat_minor": 2
}
