{
 "cells": [
  {
   "cell_type": "code",
   "execution_count": 6,
   "metadata": {},
   "outputs": [
    {
     "name": "stderr",
     "output_type": "stream",
     "text": [
      "\u001b[0;31m                |\n",
      "\u001b[0m\u001b[0;31m                V\n",
      "\u001b[0m\u001b[0;31m Line     +---------------------------------------------------------------------------\n",
      "\u001b[0m\u001b[0;31m    5:    | void draw(){\n",
      "\u001b[0m\u001b[0;31m    6:    |     background(0)\n",
      "\u001b[0m\u001b[0;31m    7: -> |     for(int i=0; i<10; i++){}\n",
      "\u001b[0m\u001b[0;31m    8:    |         fill(255)\n",
      "\u001b[0m\u001b[0;31m    9:    |         ellipse(random(width),random(height),20,20)\n",
      "\u001b[0m\u001b[0;31m   10:    | }\n",
      "\u001b[0m\u001b[0;31m          +---------------------------------------------------------------------------\n",
      "\u001b[0m\u001b[0;31m\n",
      "\u001b[0m\u001b[0;31mCompile error in line 7: unexpected token: for\n",
      "\u001b[0m"
     ]
    },
    {
     "data": {
      "text/html": [
       "\n",
       "<style type=\"text/css\">\n",
       "      .styled-background { background-color: #ff7; }\n",
       "</style>\n",
       "\n",
       "<script>\n",
       "if (typeof markedText !== 'undefined') {\n",
       "        markedText.clear();\n",
       "}\n",
       "IPython.notebook.select_prev()\n",
       "var cell = IPython.notebook.get_selected_cell();\n",
       "markedText = cell.code_mirror.markText({line: 5, col: 0},\n",
       "                                       {line: 6, col: 0},\n",
       "                                       {className: \"styled-background\"});\n",
       "cell.show_line_numbers(1)\n",
       "IPython.notebook.select_next()\n",
       "</script>\n",
       "                    "
      ],
      "text/plain": [
       "<IPython.core.display.HTML object>"
      ]
     },
     "metadata": {},
     "output_type": "display_data"
    }
   ],
   "source": [
    "void setup(){\n",
    "    size(200,200);\n",
    "}\n",
    "\n",
    "void draw(){\n",
    "    background(0)\n",
    "    for(int i=0; i<10; i++){\n",
    "        fill(255)\n",
    "        ellipse(random(width),random(height),20,20)\n",
    "    }\n",
    "}"
   ]
  },
  {
   "cell_type": "code",
   "execution_count": null,
   "metadata": {
    "collapsed": true
   },
   "outputs": [],
   "source": []
  }
 ],
 "metadata": {
  "kernelspec": {
   "display_name": "Calysto Processing",
   "language": "java",
   "name": "calysto_processing"
  },
  "language_info": {
   "codemirror_mode": {
    "name": "text/x-java",
    "version": 2
   },
   "file_extension": ".java",
   "mimetype": "text/x-java",
   "name": "java"
  }
 },
 "nbformat": 4,
 "nbformat_minor": 2
}
