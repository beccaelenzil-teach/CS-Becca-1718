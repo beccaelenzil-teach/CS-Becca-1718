{
 "cells": [
  {
   "cell_type": "code",
   "execution_count": 1,
   "metadata": {},
   "outputs": [
    {
     "data": {
      "application/javascript": [
       "require.undef(\"nbextensions/vpython_libraries/glow.min\");"
      ],
      "text/plain": [
       "<IPython.core.display.Javascript object>"
      ]
     },
     "metadata": {},
     "output_type": "display_data"
    },
    {
     "data": {
      "application/javascript": [
       "require.undef(\"nbextensions/vpython_libraries/glowcomm\");"
      ],
      "text/plain": [
       "<IPython.core.display.Javascript object>"
      ]
     },
     "metadata": {},
     "output_type": "display_data"
    },
    {
     "data": {
      "application/javascript": [
       "require.undef(\"nbextensions/vpython_libraries/jquery-ui.custom.min\");"
      ],
      "text/plain": [
       "<IPython.core.display.Javascript object>"
      ]
     },
     "metadata": {},
     "output_type": "display_data"
    },
    {
     "data": {
      "application/javascript": [
       "require([\"nbextensions/vpython_libraries/glow.min\"], function(){console.log(\"GLOW LOADED\");})"
      ],
      "text/plain": [
       "<IPython.core.display.Javascript object>"
      ]
     },
     "metadata": {},
     "output_type": "display_data"
    },
    {
     "data": {
      "application/javascript": [
       "require([\"nbextensions/vpython_libraries/glowcomm\"], function(){console.log(\"GLOWCOMM LOADED\");})"
      ],
      "text/plain": [
       "<IPython.core.display.Javascript object>"
      ]
     },
     "metadata": {},
     "output_type": "display_data"
    },
    {
     "data": {
      "application/javascript": [
       "require([\"nbextensions/vpython_libraries/jquery-ui.custom.min\"], function(){console.log(\"JQUERY LOADED\");})"
      ],
      "text/plain": [
       "<IPython.core.display.Javascript object>"
      ]
     },
     "metadata": {},
     "output_type": "display_data"
    },
    {
     "data": {
      "text/html": [
       "<div id=\"glowscript\" class=\"glowscript\"></div>"
      ],
      "text/plain": [
       "<IPython.core.display.HTML object>"
      ]
     },
     "metadata": {},
     "output_type": "display_data"
    },
    {
     "data": {
      "application/javascript": [
       "window.__context = { glowscript_container: $(\"#glowscript\").removeAttr(\"id\")}"
      ],
      "text/plain": [
       "<IPython.core.display.Javascript object>"
      ]
     },
     "metadata": {},
     "output_type": "display_data"
    },
    {
     "ename": "ModuleNotFoundError",
     "evalue": "No module named 'robot'",
     "output_type": "error",
     "traceback": [
      "\u001b[0;31m---------------------------------------------------------------------------\u001b[0m",
      "\u001b[0;31mModuleNotFoundError\u001b[0m                       Traceback (most recent call last)",
      "\u001b[0;32m<ipython-input-1-edb79e3a9461>\u001b[0m in \u001b[0;36m<module>\u001b[0;34m()\u001b[0m\n\u001b[1;32m      1\u001b[0m \u001b[0;32mfrom\u001b[0m \u001b[0mvpython\u001b[0m \u001b[0;32mimport\u001b[0m \u001b[0;34m*\u001b[0m\u001b[0;34m\u001b[0m\u001b[0m\n\u001b[0;32m----> 2\u001b[0;31m \u001b[0;32mfrom\u001b[0m \u001b[0mrobot\u001b[0m \u001b[0;32mimport\u001b[0m \u001b[0;34m*\u001b[0m\u001b[0;34m\u001b[0m\u001b[0m\n\u001b[0m\u001b[1;32m      3\u001b[0m \u001b[0;32mimport\u001b[0m \u001b[0mrandom\u001b[0m\u001b[0;34m\u001b[0m\u001b[0m\n\u001b[1;32m      4\u001b[0m \u001b[0;32mimport\u001b[0m \u001b[0mmath\u001b[0m\u001b[0;34m\u001b[0m\u001b[0m\n\u001b[1;32m      5\u001b[0m \u001b[0;32mimport\u001b[0m \u001b[0mipywidgets\u001b[0m \u001b[0;32mas\u001b[0m \u001b[0mwidgets\u001b[0m\u001b[0;34m\u001b[0m\u001b[0m\n",
      "\u001b[0;31mModuleNotFoundError\u001b[0m: No module named 'robot'"
     ]
    }
   ],
   "source": [
    "from vpython import *\n",
    "from robot import *\n",
    "import random\n",
    "import math\n",
    "import ipywidgets as widgets\n",
    "\n",
    "# variable declarations\n",
    "global userbot\n",
    "global running\n",
    "running = True\n",
    "GROUND_RADIUS = 50\n",
    "ZOMBIES = 20\n",
    "\n",
    "# declare our buttons\n",
    "fastButton = widgets.Button(description = 'F', width = '60px', height = '60px')\n",
    "slowButton = widgets.Button(description = 'S', width = '60px', height = '60px')\n",
    "leftButton = widgets.Button(description = 'L', width = '60px', height = '60px')\n",
    "rightButton = widgets.Button(description = 'R', width = '60px', height = '60px')\n",
    "fillerButton0 = widgets.Button(description = '', width = '60px', height = '60px')\n",
    "resetButton = widgets.Button(description = 'Reset', width = '120px', height = '60px')\n",
    "quitButton = widgets.Button(description = 'Quit', width = '120px', height = '60px')\n",
    "fillerButton1 = widgets.Button(description = '', width = '120px', height = '60px')\n",
    "scene.caption = \"To use the directional pad, click on a marked direction. F = Faster, S = Slower, L = turn Left and R = turn Right.\"\n",
    "\n",
    "# These functions set up our buttons to read in inputs\n",
    "def fastButton_handler(s):\n",
    "    global userbot\n",
    "    userbot.speed += 0.1\n",
    "fastButton.on_click(fastButton_handler)\n",
    "\n",
    "def slowButton_handler(s):\n",
    "    global userbot\n",
    "    userbot.speed -= 0.1\n",
    "slowButton.on_click(slowButton_handler)\n",
    "\n",
    "def leftButton_handler(s):\n",
    "    global userbot\n",
    "    userbot.turn(5)\n",
    "leftButton.on_click(leftButton_handler)\n",
    "\n",
    "def rightButton_handler(s):\n",
    "    global userbot\n",
    "    userbot.turn(-5)\n",
    "rightButton.on_click(rightButton_handler)\n",
    "\n",
    "def quitButton_handler(s):\n",
    "    global running\n",
    "    running = False\n",
    "    print(\"Exiting the main loop. Ending this vPython session...\")\n",
    "quitButton.on_click(quitButton_handler)\n",
    "\n",
    "# now arrange and display our GUI\n",
    "container0 = widgets.HBox(children = [fillerButton0, fastButton, fillerButton0, quitButton])\n",
    "container1 = widgets.HBox(children = [leftButton, fillerButton0, rightButton, fillerButton1])\n",
    "container2 = widgets.HBox(children = [fillerButton0, slowButton, fillerButton0, fillerButton1])\n",
    "display(container0)\n",
    "display(container1)\n",
    "display(container2)\n",
    "\n",
    "def main():\n",
    "    global userbot\n",
    "    global running\n",
    "    ground = cylinder(pos = vector(0, -1, 0),\n",
    "                      axis = vector(0, 1, 0),\n",
    "                      radius = GROUND_RADIUS)\n",
    "    userbot = PlayerBot()\n",
    "    zombies = makeZombies()\n",
    "    while running:\n",
    "        rate(30)\n",
    "        userbot.update()\n",
    "        if mag(userbot.position) >= GROUND_RADIUS:\n",
    "            userbot.turn(180)\n",
    "        for z in zombies:\n",
    "            z.update()\n",
    "            if mag(z.position) >= GROUND_RADIUS:\n",
    "                z.turn(random.uniform(150, 210))\n",
    "\n",
    "def makeZombies():\n",
    "    zombies = []\n",
    "    for z in range(ZOMBIES):\n",
    "        theta = random.uniform(0, 360)\n",
    "        r = random.uniform(0, GROUND_RADIUS)\n",
    "        x = r * cos(math.radians(theta))\n",
    "        z = r * sin(math.radians(theta))\n",
    "        zombies.append(ZombieBot(position = vector(x, 0, z)))\n",
    "    return zombies\n",
    "main()\n"
   ]
  },
  {
   "cell_type": "code",
   "execution_count": null,
   "metadata": {
    "collapsed": true
   },
   "outputs": [],
   "source": []
  }
 ],
 "metadata": {
  "kernelspec": {
   "display_name": "VPython",
   "language": "python",
   "name": "vpython"
  },
  "language_info": {
   "codemirror_mode": {
    "name": "ipython",
    "version": 3
   },
   "file_extension": ".py",
   "mimetype": "text/x-python",
   "name": "python",
   "nbconvert_exporter": "python",
   "pygments_lexer": "ipython3",
   "version": "3.6.3"
  }
 },
 "nbformat": 4,
 "nbformat_minor": 2
}
