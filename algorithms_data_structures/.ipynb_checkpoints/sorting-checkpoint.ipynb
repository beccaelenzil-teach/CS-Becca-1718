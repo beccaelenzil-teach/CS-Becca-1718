{
 "cells": [
  {
   "cell_type": "code",
   "execution_count": 19,
   "metadata": {},
   "outputs": [
    {
     "data": {
      "text/plain": [
       "[0, 1, 2, 3, 4, 5, 6, 7, 8, 9]"
      ]
     },
     "execution_count": 19,
     "metadata": {},
     "output_type": "execute_result"
    },
    {
     "data": {
      "image/png": "[encoded data removed]",
      "text/plain": [
       "<matplotlib.figure.Figure at 0x1194393c8>"
      ]
     },
     "metadata": {},
     "output_type": "display_data"
    }
   ],
   "source": [
    "import matplotlib.pyplot as plt\n",
    "from random import shuffle\n",
    "\n",
    "plt.ion()\n",
    "\n",
    "def create_random_list(length):\n",
    "    some_list = [i for i in range(length)]\n",
    "    shuffle(some_list)\n",
    "    return some_list\n",
    "\n",
    "def display(some_list):\n",
    "    #plt.clf()\n",
    "    plt.bar(range(len(some_list)),some_list)\n",
    "    plt.draw()\n",
    "\n",
    "def bubblesort(some_list):\n",
    "    sort = True\n",
    "    while sort == True:\n",
    "        sort = False\n",
    "        for i in range(len(some_list)-1):\n",
    "            if some_list[i+1] < some_list[i]:\n",
    "                some_list[i], some_list[i+1] = some_list[i+1], some_list[i]\n",
    "                sort = True\n",
    "                \n",
    "        display(some_list)\n",
    "\n",
    "    return some_list\n",
    "\n",
    "some_list = create_random_list(10)\n",
    "bubblesort(some_list)\n"
   ]
  },
  {
   "cell_type": "code",
   "execution_count": null,
   "metadata": {
    "collapsed": true
   },
   "outputs": [],
   "source": []
  }
 ],
 "metadata": {
  "kernelspec": {
   "display_name": "Python 3",
   "language": "python",
   "name": "python3"
  },
  "language_info": {
   "codemirror_mode": {
    "name": "ipython",
    "version": 3
   },
   "file_extension": ".py",
   "mimetype": "text/x-python",
   "name": "python",
   "nbconvert_exporter": "python",
   "pygments_lexer": "ipython3",
   "version": "3.6.3"
  }
 },
 "nbformat": 4,
 "nbformat_minor": 2
}
