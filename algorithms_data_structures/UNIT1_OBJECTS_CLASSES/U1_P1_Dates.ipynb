{
 "cells": [
  {
   "cell_type": "markdown",
   "metadata": {},
   "source": [
    "###Problem 1: Dates**\n",
    "\n",
    "One of Harvey Mudd Professor Art Benjamin's abilities is to compute (in his head) the day of the week that any past date fell on. For example, if you tell him you were born on October 13, 1995, he'll be able to tell you that you were born on a Friday (the 13th, no less!)\n",
    "\n",
    "This problem will guide you through creating a class named **Date** from which you will be able to create objects of type **Date**. Your objects will have the ability to find the day of the week they fell on (or will fall on).\n",
    "\n",
    "You will complete your program in the code cell below:"
   ]
  },
  {
   "cell_type": "code",
   "execution_count": 2,
   "metadata": {},
   "outputs": [],
   "source": [
    "# python 2\n",
    "#\n",
    "# Unit 1, Problem 1: Dates\n",
    "#\n",
    "# Name:\n",
    "#\n",
    "\n",
    "class Date:\n",
    "    \"\"\" a user-defined data structure that\n",
    "        stores and manipulates dates\n",
    "    \"\"\"\n",
    "\n",
    "    # the constructor is always named __init__ !\n",
    "    def __init__(self, month, day, year):\n",
    "        \"\"\" the constructor for objects of type Date \"\"\"\n",
    "        self.month = month\n",
    "        self.day = day\n",
    "        self.year = year\n",
    "\n",
    "\n",
    "    # the \"printing\" function is always named __repr__ !\n",
    "    def __repr__(self):\n",
    "        \"\"\" This method returns a string representation for the\n",
    "            object of type Date that calls it (named self).\n",
    "\n",
    "             ** Note that this _can_ be called explicitly, but\n",
    "                it more often is used implicitly via the print\n",
    "                statement or simply by expressing self's value.\n",
    "        \"\"\"\n",
    "        s =  \"%02d/%02d/%04d\" % (self.month, self.day, self.year)\n",
    "        return s\n",
    "\n",
    "\n",
    "    # here is an example of a \"method\" of the Date class:\n",
    "    def isLeapYear(self):\n",
    "        \"\"\" Returns True if the calling object is\n",
    "            in a leap year; False otherwise. \"\"\"\n",
    "        if self.year % 400 == 0: return True\n",
    "        elif self.year % 100 == 0: return False\n",
    "        elif self.year % 4 == 0: return True\n",
    "        return False\n"
   ]
  },
  {
   "cell_type": "markdown",
   "metadata": {},
   "source": [
    "**The `Date` class**\n",
    "\n",
    "Take a moment to look over the code as it stands so far.\n",
    "\n",
    "Notice that in this ```Date``` class there are three data members:\n",
    "\n",
    "- A data member holding the month (this is ```self.month```)\n",
    "- A data member holding the day of the month (this is ```self.day```)\n",
    "- A data member holding the year (this is ```self.year```)\n",
    "\n",
    "Note that ```self``` is used to denote **any** object (that is, any variable or value) of class ```Date```."
   ]
  },
  {
   "cell_type": "code",
   "execution_count": null,
   "metadata": {
    "collapsed": true
   },
   "outputs": [],
   "source": []
  }
 ],
 "metadata": {
  "kernelspec": {
   "display_name": "Python 3",
   "language": "python",
   "name": "python3"
  },
  "language_info": {
   "codemirror_mode": {
    "name": "ipython",
    "version": 3
   },
   "file_extension": ".py",
   "mimetype": "text/x-python",
   "name": "python",
   "nbconvert_exporter": "python",
   "pygments_lexer": "ipython3",
   "version": "3.6.3"
  }
 },
 "nbformat": 4,
 "nbformat_minor": 2
}
